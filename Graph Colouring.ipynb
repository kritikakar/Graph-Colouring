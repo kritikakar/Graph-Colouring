{
 "cells": [
  {
   "cell_type": "markdown",
   "id": "a3bdd02a",
   "metadata": {},
   "source": [
    "---"
   ]
  },
  {
   "cell_type": "markdown",
   "id": "e404d117",
   "metadata": {
    "deletable": false,
    "editable": false,
    "nbgrader": {
     "cell_type": "markdown",
     "checksum": "66217c2fc52c8f3ab76fed8ef7209d8d",
     "grade": false,
     "grade_id": "cell-cfac08fc6ba1593e",
     "locked": true,
     "schema_version": 3,
     "solution": false,
     "task": false
    }
   },
   "source": [
    "For a positive integer $k$, a *k-colouring* of a graph $G = (V, E)$ is a function $f: V \\to \\{1, 2, \\ldots, k \\}$ such that if $\\{u, v\\} \\in E$ is any edge of $G$, then $f(u) \\neq f(v)$. In other words, it is an assignment of the \"colours\" $1$ up to $k$ to the vertices of $G$ such that no neighbouring vertices share a colour. The smallest $k$ for which this is possible, i.e. the smallest number of colours required, is called the *chromatic number* of $G$. \n",
    "\n",
    "Finding the chromatic number of a graph is an $NP$-hard problem, and determining whether the chromatic number is equal to $k$ (for some $k > 2$) is $NP$-complete; both of these are with relation to the number of vertices or edges.\n",
    "\n",
    "A *colouring* of a graph is a $k$-colouring, for some $k \\geq 1$.\n",
    "    \n",
    "Colouring graphs has applications in scheduling and in compilers, among many other things. You typically want to use as few colours as possible in these applications, as the colours represent resources.\n",
    "    \n",
    "The most famous appearance of graph colouring is in the Four-Colour Theorem, which states that any graph which can be drawn in the plane without overlapping edges requires at most $4$ colours; the known proofs of this are all computer-based."
   ]
  },
  {
   "cell_type": "markdown",
   "id": "db78b8ca",
   "metadata": {
    "deletable": false,
    "editable": false,
    "nbgrader": {
     "cell_type": "markdown",
     "checksum": "d92b73a51445f393cd04b79e52df2d55",
     "grade": false,
     "grade_id": "Q1-task",
     "locked": true,
     "points": 1,
     "schema_version": 3,
     "solution": false,
     "task": true
    }
   },
   "source": [
    "A simple method to find a colouring of a graph, with vertices $\\{0, 1, \\ldots, n - 1\\}$, is the following *greedy* algorithm:\n",
    "\n",
    "1. For $v$ in `0, 1, 2, ..., n - 1`:\n",
    "    1. Find the smallest colour (positive integer) $m$ which is not a colour of any neighbour of $v$.\n",
    "    2. Assign $m$ as the colour of $v$.\n",
    "    \n",
    "Implement the method above as a function `greedy_colouring` which takes a networkx `Graph` `G` (with vertices $\\{0, 1, \\ldots, n - 1\\}$) and returns a `list` `C` of the colours of `G`, where `C[i]` is the colour of vertex $i$.\n",
    "    \n",
    "<p style='text-align:right;'> <b> [3 Marks] </b> </p>\n",
    "\n",
    "As a test, the Hoffman-Singleton graph (`nx.hoffman_singleton_graph()`) should require 6 colours using this method.\n",
    "If you have a graph `G`, you can draw it with coloured vertices using the code below: \n",
    " \n",
    "```python\n",
    "ten_colours = ['#CC6677', '#332288', '#DDCC77', '#117733', '#88CCEE',\n",
    "               '#882255', '#44AA99', '#999933', '#AA4499', '#DDDDDD']\n",
    "nx.draw_networkx(G, \n",
    "                 node_color=[ten_colours[i - 1] for i in greedy_colouring(G)],\n",
    "                 with_labels=False)\n",
    "```\n",
    "These ten colours are [Paul Tol's](https://personal.sron.nl/~pault/) muted colour scheme, designed with colour-blindness in mind; if you want to draw examples of graphs with more than ten colours you will have to extend the list. Vertex labels are omitted here."
   ]
  },
  {
   "cell_type": "code",
   "execution_count": 7,
   "id": "0b730c6c",
   "metadata": {
    "ExecuteTime": {
     "end_time": "2023-03-12T23:30:23.008218Z",
     "start_time": "2023-03-12T23:30:22.245041Z"
    },
    "nbgrader": {
     "cell_type": "code",
     "checksum": "5c982dd3d574ad2db48a45d8827999bd",
     "grade": false,
     "grade_id": "Q1-answer",
     "locked": false,
     "schema_version": 3,
     "solution": true,
     "task": false
    }
   },
   "outputs": [
    {
     "data": {
      "image/png": "[encoded data removed]",
      "text/plain": [
       "<Figure size 640x480 with 1 Axes>"
      ]
     },
     "metadata": {},
     "output_type": "display_data"
    }
   ],
   "source": [
    "import numpy as np\n",
    "import networkx as nx\n",
    "\n",
    "G = nx.Graph()\n",
    "G.add_nodes_from(range(7))\n",
    "G.add_edges_from([{0, 2}, {3, 2}, {6, 2}, {4, 2}, {5, 6}, {3,4}])\n",
    "            \n",
    "def greedy_colouring(G):\n",
    "    colours = np.zeros(G.number_of_nodes(), dtype = int)\n",
    "    for v in G:\n",
    "        neighbours = np.array(G[v])\n",
    "        used_colours = []\n",
    "        for i in neighbours:\n",
    "            if colours[i] != 0:\n",
    "                used_colours.append(colours[i])\n",
    "        j = 1\n",
    "        while j in used_colours:\n",
    "            j = j + 1\n",
    "        colours[v] = j\n",
    "    return(colours)\n",
    "\n",
    "greedy_colouring(G)        \n",
    "    \n",
    "ten_colours = ['#CC6677', '#332288', '#DDCC77', '#117733', '#88CCEE',\n",
    "               '#882255', '#44AA99', '#999933', '#AA4499', '#DDDDDD']\n",
    "nx.draw_networkx(G, \n",
    "                 node_color=[ten_colours[i - 1] for i in greedy_colouring(G)],\n",
    "                 with_labels=False)"
   ]
  },
  {
   "cell_type": "markdown",
   "id": "ad4570a0",
   "metadata": {
    "deletable": false,
    "editable": false,
    "nbgrader": {
     "cell_type": "markdown",
     "checksum": "ef2edae81018f50e6c0e9fb7456fc766",
     "grade": false,
     "grade_id": "Q2-task",
     "locked": true,
     "points": 0,
     "schema_version": 3,
     "solution": false,
     "task": true
    }
   },
   "source": [
    " Both of the following arguments are **incorrect**. Explain why; please be clear and brief!\n",
    "\n",
    "**(a)** In the introduction, it was claimed that finding the chromatic number of a graph is $NP$-complete. However, the greedy colouring algorithm works in polynomial time and the chromatic number is the maximum colour used by it, which can be found in linear time. Hence $P = NP$.\n",
    "\n",
    "**(b)** Here is an algorithm for testing whether the chromatic number is $3$:\n",
    "    \n",
    "```\n",
    "1. For each function f: V -> {1, 2, 3}, test if it defines a colouring.\n",
    "2. If there was any such f which did define a colouring using three colours,\n",
    "   but there was none using only one or two colours, then return True\n",
    "3. Otherwise return False\n",
    "```\n",
    "    \n",
    "There are $3^{|V|}$ such functions $f$, so the number of steps taken by this algorithm grows faster than any polynomial. This means that the decision problem \"is the chromatic number of $G$ equal to 3?\" is not in $P$. In the introduction we said that this problem is $NP$-complete, so it certainly is in $NP$. Hence $P \\neq NP$.\n"
   ]
  },
  {
   "cell_type": "code",
   "execution_count": 9,
   "id": "f8778f4c",
   "metadata": {
    "nbgrader": {
     "cell_type": "markdown",
     "checksum": "e945ba63b1661702b4b5de1c888c6408",
     "grade": true,
     "grade_id": "Q2-answer",
     "locked": false,
     "points": 2,
     "schema_version": 3,
     "solution": true,
     "task": false
    }
   },
   "outputs": [],
   "source": [
    "# (a) Since the chromatic number of a graph is NP-complete, it implies that if there is a solution, it can be verified in polynomial time. But there may be graphs for which a solution does not exist. Thus, we cannot say that the problem can be solved in polynomial time for all graphs and NP is not equal to P.\n",
    "\n",
    "# (b) All the colourings do not need to be checked to determine whether the chromatic number is 3. Thus, a more efficient solution exists that may be in P."
   ]
  },
  {
   "cell_type": "markdown",
   "id": "34a0cede",
   "metadata": {
    "deletable": false,
    "editable": false,
    "nbgrader": {
     "cell_type": "markdown",
     "checksum": "51e7e5102daebb01e1424a89de391f61",
     "grade": false,
     "grade_id": "Q3a-task",
     "locked": true,
     "points": 0,
     "schema_version": 3,
     "solution": false,
     "task": true
    }
   },
   "source": [
    "One way of refining the greedy algorithm is to sort the vertices in descending order of degree before colouring them. This is a *heuristic* which may reduce the number of colours required; the idea is that high-degree vertices will be the most difficult ones to colour if you leave them until the end.\n",
    "\n",
    "**(a)** Update your function `greedy_colouring` above so that it has an additional optional keyword argument `use_heuristic` with default value `False`, which determines whether it uses the heuristic."
   ]
  },
  {
   "cell_type": "markdown",
   "id": "3a25fdb2",
   "metadata": {
    "deletable": false,
    "editable": false,
    "nbgrader": {
     "cell_type": "markdown",
     "checksum": "08de5631f0a2d23f0d94e556a8c57b0d",
     "grade": false,
     "grade_id": "Q3b-task",
     "locked": true,
     "points": 0,
     "schema_version": 3,
     "solution": false,
     "task": true
    }
   },
   "source": [
    "<font size=\"4\" >\n",
    "\n",
    "\n",
    "**(b)** Generate 1000 random Erdős–Rényi graphs with $100$ vertices and edge-probability $0.2$. For each one, calculate the difference in the number of colours used with and without the heuristic. Make a good histogram of these differences, and comment briefly on it."
   ]
  },
  {
   "cell_type": "code",
   "execution_count": 10,
   "id": "bf1098c2",
   "metadata": {
    "ExecuteTime": {
     "end_time": "2023-03-12T23:30:38.627155Z",
     "start_time": "2023-03-12T23:30:33.519677Z"
    },
    "nbgrader": {
     "cell_type": "code",
     "checksum": "ba999b3f8624094780ba39671156efd4",
     "grade": true,
     "grade_id": "Q3b-answer",
     "locked": false,
     "points": 2,
     "schema_version": 3,
     "solution": true,
     "task": false
    }
   },
   "outputs": [
    {
     "data": {
      "image/png": "[encoded data removed]",
      "text/plain": [
       "<Figure size 640x480 with 1 Axes>"
      ]
     },
     "metadata": {},
     "output_type": "display_data"
    }
   ],
   "source": [
    "def sort_function(G):\n",
    "    vertices = list(G.nodes())\n",
    "    sorted_vertices = np.zeros(G.number_of_nodes(), dtype=int)\n",
    "    degrees = np.zeros(G.number_of_nodes(), dtype=int)\n",
    "    for i in range(0, G.number_of_nodes()):\n",
    "        degrees[i] = G.degree[i]\n",
    "    indices = np.argsort(degrees)\n",
    "    for j in range(0, G.number_of_nodes()):\n",
    "        sorted_vertices[j] = vertices[indices[j]]\n",
    "    sorted_vertices = sorted_vertices[::-1]\n",
    "    return sorted_vertices\n",
    "\n",
    "def greedy_colouring(G, use_heuristic=False):\n",
    "    colours = np.zeros(G.number_of_nodes(), dtype = int)   \n",
    "    if use_heuristic:\n",
    "        G1 = sort_function(G)\n",
    "    else:\n",
    "        G1 = G.nodes()\n",
    "    for v in G1:\n",
    "        neighbours = np.array(G[v])\n",
    "        used_colours = []\n",
    "        for i in neighbours:\n",
    "            if colours[i] != 0:\n",
    "                used_colours.append(colours[i])\n",
    "        j = 1\n",
    "        while j in used_colours:\n",
    "            j = j + 1\n",
    "        colours[v] = j\n",
    "    return(colours)\n",
    "\n",
    "difference = []\n",
    "\n",
    "for i in range(1000):\n",
    "    Graph = nx.erdos_renyi_graph(100, 0.2)\n",
    "    heur_false = greedy_colouring(Graph, use_heuristic=False)\n",
    "    heur_true = greedy_colouring(Graph, use_heuristic=True)\n",
    "    difference.append(max(heur_true)-max(heur_false))\n",
    "\n",
    "import matplotlib.pyplot as plt\n",
    "\n",
    "bins = np.arange(min(difference)-0.5, max(difference)+0.5+1,1)\n",
    "\n",
    "plt.hist(difference, bins = bins)\n",
    "plt.xlabel('Difference')\n",
    "plt.ylabel('Frequency')\n",
    "plt.show()\n"
   ]
  },
  {
   "cell_type": "code",
   "execution_count": 11,
   "id": "9a890907",
   "metadata": {
    "nbgrader": {
     "cell_type": "markdown",
     "checksum": "a35a544abeb0afdcd11a88f15d898cfd",
     "grade": true,
     "grade_id": "Q3c-answer",
     "locked": false,
     "points": 1,
     "schema_version": 3,
     "solution": true,
     "task": false
    }
   },
   "outputs": [],
   "source": [
    "# Using the heuristic and sorting the nodes in descending order according to their degree is improving the efficiency by, on average, reducing the maximum number of colours used."
   ]
  }
 ],
 "metadata": {
  "kernelspec": {
   "display_name": "Python 3 (ipykernel)",
   "language": "python",
   "name": "python3"
  },
  "language_info": {
   "codemirror_mode": {
    "name": "ipython",
    "version": 3
   },
   "file_extension": ".py",
   "mimetype": "text/x-python",
   "name": "python",
   "nbconvert_exporter": "python",
   "pygments_lexer": "ipython3",
   "version": "3.11.8"
  },
  "toc": {
   "base_numbering": 1,
   "nav_menu": {},
   "number_sections": false,
   "sideBar": true,
   "skip_h1_title": false,
   "title_cell": "Table of Contents",
   "title_sidebar": "Contents",
   "toc_cell": false,
   "toc_position": {},
   "toc_section_display": true,
   "toc_window_display": false
  },
  "varInspector": {
   "cols": {
    "lenName": 16,
    "lenType": 16,
    "lenVar": 40
   },
   "kernels_config": {
    "python": {
     "delete_cmd_postfix": "",
     "delete_cmd_prefix": "del ",
     "library": "var_list.py",
     "varRefreshCmd": "print(var_dic_list())"
    },
    "r": {
     "delete_cmd_postfix": ") ",
     "delete_cmd_prefix": "rm(",
     "library": "var_list.r",
     "varRefreshCmd": "cat(var_dic_list()) "
    }
   },
   "types_to_exclude": [
    "module",
    "function",
    "builtin_function_or_method",
    "instance",
    "_Feature"
   ],
   "window_display": false
  }
 },
 "nbformat": 4,
 "nbformat_minor": 5
}
